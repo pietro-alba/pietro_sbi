{
 "cells": [
  {
   "cell_type": "markdown",
   "id": "61091404-bc75-4efe-8da5-92ad83e85372",
   "metadata": {},
   "source": [
    "<h1>Simulation Based Inference (SBI)</h1>"
   ]
  },
  {
   "cell_type": "code",
   "execution_count": null,
   "id": "3af258d3-e59c-4724-98ad-baa2407af6eb",
   "metadata": {},
   "outputs": [],
   "source": []
  }
 ],
 "metadata": {
  "kernelspec": {
   "display_name": "Python 3 (ipykernel)",
   "language": "python",
   "name": "python3"
  },
  "language_info": {
   "codemirror_mode": {
    "name": "ipython",
    "version": 3
   },
   "file_extension": ".py",
   "mimetype": "text/x-python",
   "name": "python",
   "nbconvert_exporter": "python",
   "pygments_lexer": "ipython3",
   "version": "3.9.20"
  }
 },
 "nbformat": 4,
 "nbformat_minor": 5
}
