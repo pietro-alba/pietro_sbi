{
 "cells": [
  {
   "cell_type": "markdown",
   "id": "61091404-bc75-4efe-8da5-92ad83e85372",
   "metadata": {},
   "source": [
    "<h1>Simulation Based Inference (SBI)</h1>\n",
    "<div class=\"text\">\n",
    "    <p>\n",
    "    In this notebook I will explain the sbi package which is extensively used in this project. \n",
    "    <br>\n",
    "    This tutorial is based on the one that can be found on the sbi-dev webiste. \n",
    "    However, here, the lines of code are combined in functions that closely resemble the structure and functions of my python scripts.\n",
    "    </p>\n",
    "    <p>\n",
    "        In Astrophysics, Bayesian Inference is useful for calculating the value of the parameters which influenced a certain observation. In more details, it is used to calculate the posterior $p(\\theta|x)$, which is the probability distribution of the parameters $\\theta$ given the observation x. \n",
    "        <br>\n",
    "        The posterior can be calculated using Bayes theorem:\n",
    "    </p>\n",
    "    <p>\n",
    "        <center>\n",
    "        $p(\\theta|x) \\propto p(x|\\theta)\\cdot p(\\theta)$,\n",
    "    </p>\n",
    "    <p> \n",
    "        where $p(x|\\theta)$ is the likelihood and $p(\\theta)$ is the prior. However, to use this equation, we would need to know the likelihood. The issue is that it is not always possible to know the right equation of the likelihood, therefore approximations are often used. This is the case for intractable likelihoods, where the physical process is so complicated that it is difficult to know the true likelihood.\n",
    "        <br>\n",
    "        Instead, SBI uses Neural Networks, in particular Neural Density Estimators (NDE), to learn the likelihood or the posterior directly (this is why SBI is often also called likelihood-free inference).\n",
    "    </p>\n",
    "    <p>\n",
    "        Since the true likelihood is not known, the NDE will learn by minimizing the Kullback-Liebler (KL) divergence (<a href=\"https://arxiv.org/abs/2305.03074\">Prelogovic et al. 2023</a>), which in turn means minimizing the loss functions:\n",
    "    </p>\n",
    "        <p>\n",
    "            <center>\n",
    "                \\[L = -\\frac{1}{N}\\sum_{i=1}^{N}\\log\\mathcal{L}_{NN}(d_{PS,i}|\\theta)\\]\n",
    "        </p>\n",
    "    <p>\n",
    "    </p>\n",
    "</div>"
   ]
  },
  {
   "cell_type": "code",
   "execution_count": null,
   "id": "67fbb68b-4083-4b1b-8c42-53189d2c8126",
   "metadata": {},
   "outputs": [],
   "source": [
    "import torch\n",
    "from torch.optim import Adam\n",
    "import sys\n",
    "import os \n",
    "\n",
    "from sbi.inference import NPE\n",
    "from sbi.utils import BoxUniform\n",
    "from sbi.utils.user_input_checks import (\n",
    "    check_sbi_inputs,\n",
    "    process_prior,\n",
    "    process_simulator,\n",
    ")\n",
    "from sbi.neural_nets.net_builders import build_nsf\n",
    "import matplotlib.pyplot as plt\n",
    "import corner\n",
    "import numpy as np\n",
    "sys.path.insert(1, os.path.abspath('../')) # Note that this line is useless with a regular pip installation of PyWST.\n",
    "#import pietrosbi as psbi"
   ]
  },
  {
   "cell_type": "code",
   "execution_count": 46,
   "id": "3af258d3-e59c-4724-98ad-baa2407af6eb",
   "metadata": {},
   "outputs": [],
   "source": [
    "def simulator(theta):\n",
    "    '''\n",
    "    Simulator which is a linear gaussian\n",
    "\n",
    "    Inputs:\n",
    "        - theta: the set of paramters for the simulation\n",
    "\n",
    "    Outputs:\n",
    "        - The results of the simulator (same shape as theta)\n",
    "    '''\n",
    "    \n",
    "    return theta + 1.0 + torch.randn_like(theta) * 0.1\n"
   ]
  },
  {
   "cell_type": "code",
   "execution_count": null,
   "id": "f05885f9-3bf4-4086-9785-e10bac6a2467",
   "metadata": {},
   "outputs": [],
   "source": [
    "\n",
    "\n",
    "def simulate_data(prior, sim_func, num_simulations):\n",
    "    \"\"\"\n",
    "    This function simulates the data\n",
    "\n",
    "    Inputs:\n",
    "        - sim_func: the function used to simulate the data\n",
    "        - num_simulations: number of simulations\n",
    "\n",
    "    Outputs:\n",
    "        - theta: parameters of the simulations\n",
    "        - x: data of the simulations\n",
    "        - theta_true: parameters of the observation\n",
    "        - x_obs: data of the observation\n",
    "    \"\"\"\n",
    "\n",
    "    # Check prior, return PyTorch prior.\n",
    "    prior, _, prior_returns_numpy = process_prior(prior)\n",
    "    \n",
    "    # Check simulator, returns PyTorch simulator able to simulate batches.\n",
    "    sim_func = process_simulator(sim_func, prior, prior_returns_numpy)\n",
    "    \n",
    "    # Consistency check after making ready for sbi.\n",
    "    check_sbi_inputs(sim_func, prior)\n",
    "\n",
    "    # Generate random theta paramters\n",
    "    theta = prior.sample((num_simulations,))\n",
    "    \n",
    "    # Create data with the simulator\n",
    "    x = sim_func(theta)\n",
    "    print(\"theta.shape\", theta.shape)\n",
    "    print(\"x.shape\", x.shape)\n",
    "    \n",
    "    # Generate an observation\n",
    "    theta_true = prior.sample((1,))\n",
    "    x_obs = sim_func(theta_true)\n",
    "\n",
    "    return theta, x, theta_true, x_obs\n"
   ]
  },
  {
   "cell_type": "code",
   "execution_count": 48,
   "id": "2a3bcbd3-6cdb-4c7e-bcf3-15e356b1173a",
   "metadata": {},
   "outputs": [
    {
     "name": "stdout",
     "output_type": "stream",
     "text": [
      "theta.shape torch.Size([5000, 3])\n",
      "x.shape torch.Size([5000, 3])\n"
     ]
    }
   ],
   "source": [
    "# Number of dimensions (or number of paramters theta)\n",
    "num_dim = 3\n",
    "\n",
    "# Prior of the parameters p(\\theta). In this case a uniform distribution\n",
    "prior = BoxUniform(low=-2 * torch.ones(num_dim), high=2 * torch.ones(num_dim))\n",
    "\n",
    "# Number of simulations\n",
    "num_simulations = 5000\n",
    "\n",
    "theta, x, theta_true, x_obs = simulate_data(prior, simulator, num_simulations)"
   ]
  },
  {
   "cell_type": "markdown",
   "id": "37ee7683-b5a1-46ff-8749-089b4824fe37",
   "metadata": {},
   "source": [
    "<h2>Default method to train the NDE</h2>"
   ]
  },
  {
   "cell_type": "code",
   "execution_count": null,
   "id": "b7285634-83b4-47f4-a5ec-783063ebbb1d",
   "metadata": {},
   "outputs": [
    {
     "name": "stdout",
     "output_type": "stream",
     "text": [
      " Neural network successfully converged after 99 epochs.Posterior p(θ|x) of type DirectPosterior. It samples the posterior network and rejects samples that\n",
      "            lie outside of the prior bounds.\n"
     ]
    },
    {
     "data": {
      "application/vnd.jupyter.widget-view+json": {
       "model_id": "4cce2c48d8704176a8ed48fa4f10410a",
       "version_major": 2,
       "version_minor": 0
      },
      "text/plain": [
       "Drawing 10000 posterior samples:   0%|          | 0/10000 [00:00<?, ?it/s]"
      ]
     },
     "metadata": {},
     "output_type": "display_data"
    }
   ],
   "source": [
    "def create_posterior(theta, x, prior):\n",
    "    '''\n",
    "    It creates the Neural Posterior Estimator (NPE).\n",
    "    It uses the data and parameters to train the the NPE \n",
    "    and create the posterior.\n",
    "\n",
    "    Inputs:\n",
    "        - theta: paramters of the simulations\n",
    "        - x: data created by the simulator\n",
    "        - prior: the prior of the parameters\n",
    "\n",
    "    Output:\n",
    "        - posterior: the learned posterior of the NPE\n",
    "    '''\n",
    "\n",
    "    # Create the NPE\n",
    "    inference = NPE(prior=prior)\n",
    "\n",
    "    # Append the simulations to the inference\n",
    "    inference = inference.append_simulations(theta, x)\n",
    "\n",
    "    # Training of the NPE\n",
    "    density_estimator = inference.train()\n",
    "\n",
    "    # Building the posterior\n",
    "    posterior = inference.build_posterior(density_estimator)\n",
    "\n",
    "    # Prints how the posterior was trained\n",
    "    print(posterior) \n",
    "\n",
    "    return posterior\n",
    "\n",
    "def my_cornerplot(samples, truths, labels, bins = 20, datapoints = True, smooth=True, limits=None):\n",
    "    '''\n",
    "    This function plots a cornerplot of the posterior.\n",
    "\n",
    "    Inputs:\n",
    "        - samples: datapoint sampled from the posterior\n",
    "        - labels: labels of the plots\n",
    "        - bins: bins for the distributions plotted on the diagonal\n",
    "        - datapoints: whether or not to show the sample points\n",
    "        - smooth: smoothin of the posterior\n",
    "        - limits: limits of the plots\n",
    "\n",
    "    Outputs: it draws the cornerplot\n",
    "    '''\n",
    "    \n",
    "    fig = plt.figure(figsize = (8, 8))\n",
    "    corner.corner(\n",
    "        np.array(samples), \n",
    "        fig = fig, \n",
    "        color = \"blue\", \n",
    "        truths = truths, \n",
    "        levels = (0.68, 0.95), \n",
    "        plot_contour=False,\n",
    "        plot_density=False,\n",
    "        plot_datapoints=datapoints,\n",
    "        fill_contours=True,\n",
    "        smooth = smooth,\n",
    "        bins = bins,\n",
    "        labels = labels,\n",
    "        range=limits\n",
    "    )\n",
    "\n",
    "    plt.show()\n",
    "\n",
    "# Calculating the posterior\n",
    "posterior = create_posterior(theta, x, prior)\n",
    "\n",
    "# Sampling from the posterior conditioned on the observed data x_obs\n",
    "samples = posterior.sample((10000,), x=x_obs)"
   ]
  },
  {
   "cell_type": "code",
   "execution_count": null,
   "id": "b0e085e7-e1db-42ab-ae6d-4893fcb10419",
   "metadata": {},
   "outputs": [
    {
     "data": {
      "image/png": "[encoded data removed]",
      "text/plain": [
       "<Figure size 800x800 with 9 Axes>"
      ]
     },
     "metadata": {},
     "output_type": "display_data"
    }
   ],
   "source": [
    "# Plotting the posterior\n",
    "my_cornerplot(samples, \n",
    "              truths = theta_true.flatten(), \n",
    "              labels = [r\"$\\theta_1$\", r\"$\\theta_2$\", r\"$\\theta_3$\"], \n",
    "              bins = 20, \n",
    "              datapoints = False, \n",
    "              smooth=True, \n",
    "              limits=[[-2, 2], [-2, 2], [-2, 2]]\n",
    "             )"
   ]
  },
  {
   "cell_type": "markdown",
   "id": "b919007c-e164-406d-b971-21f86d5eef7c",
   "metadata": {},
   "source": [
    "<h2>A more flexible denisty estimator</h2>\n",
    "<div class=\"text\">\n",
    "    A similar code will be used for the training process on the 21cmfast simulations\n",
    "</div>"
   ]
  },
  {
   "cell_type": "code",
   "execution_count": null,
   "id": "a969349a-1f1e-415a-ab8f-142536381ce8",
   "metadata": {},
   "outputs": [],
   "source": [
    "def create_posterior_2(theta, x, x_obs, epochs, num=10000):\n",
    "    \"\"\"\n",
    "    This function calculates the posterior with a more advanced method\n",
    "\n",
    "    Inputs:\n",
    "        - theta: parameters of the simulations\n",
    "        - x: data of the simualations\n",
    "        - x_obs: observed data\n",
    "        - epochs: number of epochs for the training\n",
    "        - num: number of samples of the posterior\n",
    "\n",
    "    Outputs:\n",
    "        - samples: the samples of the posterior\n",
    "    \"\"\"\n",
    "\n",
    "    # Create a NDE, which in this case in a Neural Spline Flaw (NSF)\n",
    "    density_estimator = build_nsf(theta, x)\n",
    "    \n",
    "    # Choose an optimizer. In this case the Adam optimizer is used with learning rate = 5e-4\n",
    "    opt = Adam(list(density_estimator.parameters()), lr=5e-4)\n",
    "\n",
    "    # Training the NDE\n",
    "    density_estimator = training_func(opt, density_estimator, theta, x, epochs)\n",
    "\n",
    "    # Sampling from the trained NDE\n",
    "    samples = sampling(density_estimator, x_obs, num)\n",
    "\n",
    "    return samples\n",
    "    \n",
    "def training_func(opt, density_estimator, theta, x, epochs):\n",
    "    \"\"\"\n",
    "    This function trains the NDE.\n",
    "\n",
    "    Inputs:\n",
    "        - opt: optimiser\n",
    "        - density_estimator: the density estimator (NDE)\n",
    "        - theta: parameters of the simulations\n",
    "        - x: data of the simualations\n",
    "        - epochs: number of epochs for the training\n",
    "\n",
    "    Outputs:\n",
    "        - density_estimator: the trained density estimator (NDE)\n",
    "    \"\"\"\n",
    "\n",
    "    # Train the NDE with 200 epochs\n",
    "    for _ in range(epochs):\n",
    "        opt.zero_grad()\n",
    "        losses = density_estimator.loss(theta, condition=x)\n",
    "        loss = torch.mean(losses)\n",
    "        loss.backward()\n",
    "        opt.step()\n",
    "        \n",
    "    return density_estimator\n",
    "\n",
    "def sampling(density_estimator, x_obs, num):\n",
    "    \"\"\"\"\n",
    "    This function samples from the trained density estimator.\n",
    "\n",
    "    Inputs:\n",
    "        - density_estimator: the density estimator (NDE)\n",
    "        - x_obs: observed data\n",
    "        - num: number of samples for the posterior\n",
    "    \n",
    "    Outputs:\n",
    "        - samples: the samples of the posterior\n",
    "    \"\"\"\n",
    "    # Sampling from the posterior\n",
    "    samples = density_estimator.sample((num,), condition=x_obs).detach()\n",
    "    print(f\"Shape of samples: {samples.shape}  # Samples are returned with a batch dimension.\")\n",
    "    \n",
    "    # Reshaping the samples tensor\n",
    "    samples = samples.squeeze(dim=1)\n",
    "    print(f\"Shape of samples: {samples.shape}     # Removed batch dimension.\")\n",
    "\n",
    "    return samples\n",
    "\n"
   ]
  },
  {
   "cell_type": "code",
   "execution_count": null,
   "id": "4a5d7fbb-9dc2-4ac1-baa3-05f6037ff597",
   "metadata": {},
   "outputs": [
    {
     "name": "stdout",
     "output_type": "stream",
     "text": [
      "Shape of samples: torch.Size([10000, 1, 3])  # Samples are returned with a batch dimension.\n",
      "Shape of samples: torch.Size([10000, 3])     # Removed batch dimension.\n"
     ]
    }
   ],
   "source": [
    "# Setting the number of epochs\n",
    "epochs = 200\n",
    "\n",
    "# Training the NDE and sampling from the posterior\n",
    "samples = create_posterior_2(theta, x, x_obs, epochs, num=10000)"
   ]
  },
  {
   "cell_type": "code",
   "execution_count": null,
   "id": "720923e5-f625-4100-ba07-ff88389f9c61",
   "metadata": {},
   "outputs": [
    {
     "data": {
      "image/png": "[encoded data removed]",
      "text/plain": [
       "<Figure size 800x800 with 9 Axes>"
      ]
     },
     "metadata": {},
     "output_type": "display_data"
    }
   ],
   "source": [
    "# Plotting the posterior\n",
    "my_cornerplot(samples,  \n",
    "              truths = theta_true.flatten(),\n",
    "              labels = [r\"$\\theta_1$\", r\"$\\theta_2$\", r\"$\\theta_3$\"], \n",
    "              bins = 50, \n",
    "              datapoints = False, \n",
    "              smooth=True, \n",
    "              limits=[[-2, 2], [-2, 2], [-2, 2]]\n",
    "             )"
   ]
  }
 ],
 "metadata": {
  "kernelspec": {
   "display_name": "Python 3 (ipykernel)",
   "language": "python",
   "name": "python3"
  },
  "language_info": {
   "codemirror_mode": {
    "name": "ipython",
    "version": 3
   },
   "file_extension": ".py",
   "mimetype": "text/x-python",
   "name": "python",
   "nbconvert_exporter": "python",
   "pygments_lexer": "ipython3",
   "version": "3.9.20"
  }
 },
 "nbformat": 4,
 "nbformat_minor": 5
}
