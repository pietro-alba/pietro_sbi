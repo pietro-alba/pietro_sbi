{
 "cells": [
  {
   "cell_type": "markdown",
   "id": "0ffbc8d3-7ee3-4b6d-ae58-745ab4db0d77",
   "metadata": {},
   "source": [
    "<h1>Explanation of the class Pietro_Wavelet_Transforms</h1>\n",
    "<div class=\"text\">\n",
    "    The purpose of this class is to calculate the PS, S1, S2, PS3d and the $\\ell^1$ and $\\ell^2$ summaries.\n",
    "    <br>\n",
    "    For the initialization of this class, the brightness_temp of the coeval cube is not needed.\n",
    "</div>\n",
    "<h3>Explanation of the four statistics </h3>\n",
    "    The equations of the four statistics are (<a href=\"https://arxiv.org/abs/2311.00036\">Hothi et al. 2024</a>):\n",
    "<ul>\n",
    "    <li>\n",
    "        $PS = \\int_{\\mathbb{R}^2}^{} |I(x) * \\Psi_\\lambda (x)|^2 \\,dx $\n",
    "    </li>\n",
    "    <li>\n",
    "        $S_1(\\lambda) = \\int_{\\mathbb{R}^2}^{} |I(x) * \\Psi_\\lambda (x)| \\,dx $\n",
    "    </li>\n",
    "    <li>\n",
    "        $S_2(\\lambda_1, \\lambda_2) = \\int_{\\mathbb{R}^2}^{} |I(x) * \\Psi_{\\lambda_1} (x)| * \\Psi_{\\lambda_2} (x) \\,dx $, with $\\lambda_2 > \\lambda_1$\n",
    "    </li>\n",
    "    <li>\n",
    "        PS3d = \\int_{\\mathbb{R}^3}^{} |I(x) * \\Psi_\\lambda (x)|^2 \\,dx $\n",
    "    </li>\n",
    "</ul>"
   ]
  },
  {
   "cell_type": "code",
   "execution_count": 1,
   "id": "cae9914f-24ae-4dc8-9f94-9d2c959b134e",
   "metadata": {},
   "outputs": [
    {
     "name": "stderr",
     "output_type": "stream",
     "text": [
      "/obs/pguidi/anaconda3/envs/sbi_21cmfast_env/lib/python3.9/site-packages/py21cmfast/_cfg.py:57: UserWarning: Your configuration file is out of date. Updating...\n",
      "  warnings.warn(\n",
      "/obs/pguidi/anaconda3/envs/sbi_21cmfast_env/lib/python3.9/site-packages/py21cmfast/_cfg.py:41: UserWarning: Your configuration file is out of date. Updating...\n",
      "  warnings.warn(\"Your configuration file is out of date. Updating...\")\n"
     ]
    }
   ],
   "source": [
    "import os\n",
    "import sys\n",
    "import numpy as np\n",
    "sys.path.insert(1, os.path.abspath('../')) # Note that this line is useless with a regular pip installation of PyWST.\n",
    "import pietrosbi_new as psbi"
   ]
  },
  {
   "cell_type": "markdown",
   "id": "eae0c3b1-e40c-409a-b0ee-d39219baf0c9",
   "metadata": {},
   "source": [
    "<h2>Creation of a coeval cube as example</h2>\n",
    "<div class=\"text\">\n",
    "    Look the the first tutorial to understand the follwoing code\n",
    "</div>"
   ]
  },
  {
   "cell_type": "code",
   "execution_count": 2,
   "id": "4a83e82b-7cc2-46d1-874c-8bca9c02b66d",
   "metadata": {},
   "outputs": [
    {
     "name": "stderr",
     "output_type": "stream",
     "text": [
      "/obs/pguidi/anaconda3/envs/sbi_21cmfast_env/lib/python3.9/site-packages/py21cmfast/_utils.py:400: UserWarning: The following parameters to FlagOptions are not supported: ['USE_VELS_AUX']\n",
      "  warnings.warn(\n",
      "/obs/pguidi/anaconda3/envs/sbi_21cmfast_env/lib/python3.9/site-packages/py21cmfast/_utils.py:815: UserWarning: Trying to remove array that isn't yet created: hires_vx\n",
      "  warnings.warn(f\"Trying to remove array that isn't yet created: {k}\")\n",
      "/obs/pguidi/anaconda3/envs/sbi_21cmfast_env/lib/python3.9/site-packages/py21cmfast/_utils.py:815: UserWarning: Trying to remove array that isn't yet created: hires_vy\n",
      "  warnings.warn(f\"Trying to remove array that isn't yet created: {k}\")\n",
      "/obs/pguidi/anaconda3/envs/sbi_21cmfast_env/lib/python3.9/site-packages/py21cmfast/_utils.py:815: UserWarning: Trying to remove array that isn't yet created: hires_vz\n",
      "  warnings.warn(f\"Trying to remove array that isn't yet created: {k}\")\n",
      "/obs/pguidi/anaconda3/envs/sbi_21cmfast_env/lib/python3.9/site-packages/py21cmfast/_utils.py:815: UserWarning: Trying to remove array that isn't yet created: hires_vx_2LPT\n",
      "  warnings.warn(f\"Trying to remove array that isn't yet created: {k}\")\n",
      "/obs/pguidi/anaconda3/envs/sbi_21cmfast_env/lib/python3.9/site-packages/py21cmfast/_utils.py:815: UserWarning: Trying to remove array that isn't yet created: hires_vy_2LPT\n",
      "  warnings.warn(f\"Trying to remove array that isn't yet created: {k}\")\n",
      "/obs/pguidi/anaconda3/envs/sbi_21cmfast_env/lib/python3.9/site-packages/py21cmfast/_utils.py:815: UserWarning: Trying to remove array that isn't yet created: hires_vz_2LPT\n",
      "  warnings.warn(f\"Trying to remove array that isn't yet created: {k}\")\n"
     ]
    }
   ],
   "source": [
    "# All the paramters for the coeval cube (as explained in turotial 1)\n",
    "z = 9 \n",
    "n_pixels = 32 \n",
    "dim = 300 # Mpc\n",
    "astro_params_dict = {\"HII_EFF_FACTOR\": 30, \"ION_Tvir_MIN\": 4.7} \n",
    "seed = 1\n",
    "\n",
    "# Creation of the coeval cube\n",
    "coeval = psbi.create_coeval(z = z, \n",
    "                           n_pixels = n_pixels, \n",
    "                           dim = dim, \n",
    "                           astro_params_dict = astro_params_dict, \n",
    "                           seed = seed)\n",
    "\n",
    "# Remove files from the cache\n",
    "psbi.remove_21cmfast_cache()"
   ]
  },
  {
   "cell_type": "markdown",
   "id": "86af94a1-1363-4dae-97c1-c843f54bd660",
   "metadata": {},
   "source": [
    "<h2>Pietro_Wavelet_Transforms</h2>"
   ]
  },
  {
   "cell_type": "code",
   "execution_count": 13,
   "id": "aa765d00-9cfd-4275-9964-693447725ad4",
   "metadata": {},
   "outputs": [],
   "source": [
    "# NUmber of bins for the statistics\n",
    "bins = 6\n",
    "\n",
    "# True if you want the l1 summary, otherwise False\n",
    "l1 = True\n",
    "\n",
    "# True if you want the l2 summary, otherwise False\n",
    "l2 = True\n",
    "\n",
    "# Type wavelet for the line of sight decomposition\n",
    "wavelet_type = 'morl'\n",
    "\n",
    "# Initialization of the object Pietro_Wavelet_Transforms_1\n",
    "My_WT = psbi.Pietro_Wavelet_Transforms(box_size=dim, n_pixels=n_pixels, bins=bins, l1=l1, l2=l2, wavelet_type = wavelet_type, normed= True)\n",
    "My_WT .load_sim(coeval.brightness_temp)\n",
    "# To calculate the statistics PS, S1, S2 and PS3d of the coeval cube\n",
    "data_S1 = My_WT.S1\n",
    "data_PS = My_WT.PS\n",
    "data_S2 = My_WT.S2\n",
    "data_PS3d = My_WT.PS3d\n"
   ]
  },
  {
   "cell_type": "code",
   "execution_count": null,
   "id": "68427794-5e3e-4f3c-a624-8d87aec80486",
   "metadata": {},
   "outputs": [],
   "source": []
  }
 ],
 "metadata": {
  "kernelspec": {
   "display_name": "Python 3 (ipykernel)",
   "language": "python",
   "name": "python3"
  },
  "language_info": {
   "codemirror_mode": {
    "name": "ipython",
    "version": 3
   },
   "file_extension": ".py",
   "mimetype": "text/x-python",
   "name": "python",
   "nbconvert_exporter": "python",
   "pygments_lexer": "ipython3",
   "version": "3.9.20"
  }
 },
 "nbformat": 4,
 "nbformat_minor": 5
}
