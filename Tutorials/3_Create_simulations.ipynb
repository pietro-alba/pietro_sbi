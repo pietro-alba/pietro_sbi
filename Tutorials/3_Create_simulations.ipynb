{
 "cells": [
  {
   "cell_type": "markdown",
   "id": "6b54cc6f-ba95-4bc8-a4e6-87a724fb2f94",
   "metadata": {},
   "source": [
    "<h1>Running and saving multiple simulations</h1>\n",
    "<div class=\"text\">\n",
    "    In this notebook, I will explain how to create simulations of coeval cubes and save only the statistics of these coeval cubes.\n",
    "    <br>\n",
    "    Two functions are used to create these simulations:\n",
    "     <ul>\n",
    "      <li>psbi.create_batched_data_l1l2() which saves the $\\ell^1$ and $\\ell^2$ summaries, and the astrophysical paramters</li>\n",
    "      <li>psbi.create_batched_data() which saves the statatistics PS, S1, S2, PS3d and the astrophysical parameters</li>\n",
    "     </ul> \n",
    "</div>"
   ]
  },
  {
   "cell_type": "code",
   "execution_count": 1,
   "id": "232b8d79-8e26-4c2b-889b-f1e4198088a0",
   "metadata": {},
   "outputs": [
    {
     "name": "stderr",
     "output_type": "stream",
     "text": [
      "/obs/pguidi/anaconda3/envs/sbi_21cmfast_env/lib/python3.9/site-packages/py21cmfast/_cfg.py:57: UserWarning: Your configuration file is out of date. Updating...\n",
      "  warnings.warn(\n",
      "/obs/pguidi/anaconda3/envs/sbi_21cmfast_env/lib/python3.9/site-packages/py21cmfast/_cfg.py:41: UserWarning: Your configuration file is out of date. Updating...\n",
      "  warnings.warn(\"Your configuration file is out of date. Updating...\")\n"
     ]
    }
   ],
   "source": [
    "import os\n",
    "import sys\n",
    "import numpy as np\n",
    "sys.path.insert(1, os.path.abspath('../')) # Note that this line is useless with a regular pip installation of PyWST.\n",
    "import pietrosbi_new as psbi"
   ]
  },
  {
   "cell_type": "markdown",
   "id": "0f891555-ca5c-473b-b0da-000ca321d322",
   "metadata": {},
   "source": [
    "<h2>Function for the statistics PS, S1, S2, PS3d</h2>"
   ]
  },
  {
   "cell_type": "code",
   "execution_count": null,
   "id": "903f7dcc-bf7b-4a32-82ef-6b01baa2b48f",
   "metadata": {},
   "outputs": [
    {
     "name": "stderr",
     "output_type": "stream",
     "text": [
      "/obs/pguidi/anaconda3/envs/sbi_21cmfast_env/lib/python3.9/site-packages/py21cmfast/_utils.py:400: UserWarning: The following parameters to FlagOptions are not supported: ['USE_VELS_AUX']\n",
      "  warnings.warn(\n",
      "/obs/pguidi/anaconda3/envs/sbi_21cmfast_env/lib/python3.9/site-packages/py21cmfast/_utils.py:815: UserWarning: Trying to remove array that isn't yet created: hires_vx\n",
      "  warnings.warn(f\"Trying to remove array that isn't yet created: {k}\")\n",
      "/obs/pguidi/anaconda3/envs/sbi_21cmfast_env/lib/python3.9/site-packages/py21cmfast/_utils.py:815: UserWarning: Trying to remove array that isn't yet created: hires_vy\n",
      "  warnings.warn(f\"Trying to remove array that isn't yet created: {k}\")\n",
      "/obs/pguidi/anaconda3/envs/sbi_21cmfast_env/lib/python3.9/site-packages/py21cmfast/_utils.py:815: UserWarning: Trying to remove array that isn't yet created: hires_vz\n",
      "  warnings.warn(f\"Trying to remove array that isn't yet created: {k}\")\n",
      "/obs/pguidi/anaconda3/envs/sbi_21cmfast_env/lib/python3.9/site-packages/py21cmfast/_utils.py:815: UserWarning: Trying to remove array that isn't yet created: hires_vx_2LPT\n",
      "  warnings.warn(f\"Trying to remove array that isn't yet created: {k}\")\n",
      "/obs/pguidi/anaconda3/envs/sbi_21cmfast_env/lib/python3.9/site-packages/py21cmfast/_utils.py:815: UserWarning: Trying to remove array that isn't yet created: hires_vy_2LPT\n",
      "  warnings.warn(f\"Trying to remove array that isn't yet created: {k}\")\n",
      "/obs/pguidi/anaconda3/envs/sbi_21cmfast_env/lib/python3.9/site-packages/py21cmfast/_utils.py:815: UserWarning: Trying to remove array that isn't yet created: hires_vz_2LPT\n",
      "  warnings.warn(f\"Trying to remove array that isn't yet created: {k}\")\n"
     ]
    }
   ],
   "source": [
    "# Number of bacthes for the simulations\n",
    "n_batches = 2\n",
    "\n",
    "# Number of simulation per batch\n",
    "n_per_batch = 2\n",
    "\n",
    "# So total number of simulations n = n_batches * n_per_batch\n",
    "\n",
    "# Redshif, number of pixels and dimension of the cube\n",
    "z = 9\n",
    "n_pixels = 32\n",
    "dim = 300\n",
    "\n",
    "# NUmber of bins for the statistics\n",
    "bins_list = [3,6]\n",
    "\n",
    "# These three paramters are ignored since it doesn't calculate the ell summaries\n",
    "l1 = True\n",
    "l2 = True\n",
    "wavelet_type = 'morl'\n",
    "\n",
    "# Starting seed\n",
    "start_seed = 1\n",
    "\n",
    "# True: if you want to save the statistics. Remember to change the directory to the oneyou want\n",
    "# False: if you don't want to save the statistics\n",
    "save_files = True\n",
    "\n",
    "# Choose the path. Remember to remove it from the comment.\n",
    "## path = '/path/to/directory' ##\n",
    "\n",
    "# If you want to anlayse the statistics, you have to first save the files\n",
    "# The cleaning of the 21cmfast-cache is done inside the function\n",
    "# The function also simulates one additional coeval cube which will be used as the 'observation' for the SBI\n",
    "seed = psbi.create_batched_data(n_batches = n_batches, \n",
    "                                n_per_batch = n_per_batch, \n",
    "                                z = z, \n",
    "                                n_pixels = n_pixels, \n",
    "                                dim = dim, \n",
    "                                bins_list = bins_list, \n",
    "                                l1 = l1, \n",
    "                                l2 = l2, \n",
    "                                wavelet_type = wavelet_type, \n",
    "                                start_seed = start_seed, \n",
    "                                save_files = save_files,\n",
    "                                path = path)\n"
   ]
  },
  {
   "cell_type": "code",
   "execution_count": null,
   "id": "17c8c425-5e5e-4914-9b7d-e2e282dbb332",
   "metadata": {},
   "outputs": [],
   "source": [
    "# For loop for each number of bins\n",
    "for b in bins_list:\n",
    "    full_path = os.path.join(path, f'bins_{b}')\n",
    "    \n",
    "    # Loading and comabing the batches of the observed data\n",
    "    data_obs_S1 = np.load(os.path.join(full_path, 'data_obs_S1.npy'))\n",
    "    data_obs_PS = np.load(os.path.join(full_path, 'data_obs_PS.npy'))\n",
    "    data_obs_PS3d = np.load(os.path.join(full_path, 'data_obs_PS3d.npy'))\n",
    "    data_obs_S2 = np.load(os.path.join(full_path, 'data_obs_S2.npy'))\n",
    "    param_true = np.load(os.path.join(full_path, 'param_true.npy'))[:2]\n",
    "    \n",
    "    # Loading and comabing the batches of the data of the simulations\n",
    "    data_S1 = psbi.import_data_test(os.path.join(full_path, 'data_summary_S1_*.npy'))\n",
    "    data_PS = psbi.import_data_test(os.path.join(full_path, 'data_summary_PS_*.npy'))\n",
    "    data_PS3d = psbi.import_data_test(os.path.join(full_path, 'data_summary_PS3d_*.npy'))\n",
    "    data_S2 = psbi.import_data_test(os.path.join(full_path, 'data_summary_S2_*.npy'))\n",
    "    param_list = psbi.import_data_test(os.path.join(full_path, 'param_list_*.npy'))\n",
    "\n",
    "    # Calculating the line of sight decomposition for PS, S1 and S2. \n",
    "    # These data are saved automatically in full_path in one single file for each statistic\n",
    "    l1l2_summary_PS, l1l2_summary_S1, l1l2_summary_S2 = psbi.calculate_l1l2(data_PS, data_S1, data_S2, n_pixels, wavelet_type, l1, l2, full_path)\n",
    "    l1l2_obs_summary_PS, l1l2_obs_summary_S1, l1l2_obs_summary_S2 = psbi.calculate_obs_l1l2(data_obs_PS, data_obs_S1, data_obs_S2, n_pixels, wavelet_type, l1, l2, full_path)\n",
    "\n",
    "    # Saving the data of PS3d in one single file (before they were divided in batches)\n",
    "    np.save(os.path.join(full_path, 'data_PS3d.npy'), data_PS3d)\n",
    "\n",
    "    # Saving the parameters in one single file\n",
    "    np.save(os.path.join(full_path, 'param_list.npy'), param_list)\n",
    "    "
   ]
  },
  {
   "cell_type": "markdown",
   "id": "aa42acd7-2055-458d-bb0e-6e540b75dfcd",
   "metadata": {},
   "source": [
    "<h2>Function for the $\\ell^1$ and $\\ell^2$ summaries</h2>"
   ]
  },
  {
   "cell_type": "code",
   "execution_count": null,
   "id": "ef2c58ec-fbd9-47b7-97da-fafa4dbe3545",
   "metadata": {},
   "outputs": [
    {
     "name": "stderr",
     "output_type": "stream",
     "text": [
      "/obs/pguidi/anaconda3/envs/sbi_21cmfast_env/lib/python3.9/site-packages/py21cmfast/_utils.py:400: UserWarning: The following parameters to FlagOptions are not supported: ['USE_VELS_AUX']\n",
      "  warnings.warn(\n",
      "/obs/pguidi/anaconda3/envs/sbi_21cmfast_env/lib/python3.9/site-packages/py21cmfast/_utils.py:815: UserWarning: Trying to remove array that isn't yet created: hires_vx\n",
      "  warnings.warn(f\"Trying to remove array that isn't yet created: {k}\")\n",
      "/obs/pguidi/anaconda3/envs/sbi_21cmfast_env/lib/python3.9/site-packages/py21cmfast/_utils.py:815: UserWarning: Trying to remove array that isn't yet created: hires_vy\n",
      "  warnings.warn(f\"Trying to remove array that isn't yet created: {k}\")\n",
      "/obs/pguidi/anaconda3/envs/sbi_21cmfast_env/lib/python3.9/site-packages/py21cmfast/_utils.py:815: UserWarning: Trying to remove array that isn't yet created: hires_vz\n",
      "  warnings.warn(f\"Trying to remove array that isn't yet created: {k}\")\n",
      "/obs/pguidi/anaconda3/envs/sbi_21cmfast_env/lib/python3.9/site-packages/py21cmfast/_utils.py:815: UserWarning: Trying to remove array that isn't yet created: hires_vx_2LPT\n",
      "  warnings.warn(f\"Trying to remove array that isn't yet created: {k}\")\n",
      "/obs/pguidi/anaconda3/envs/sbi_21cmfast_env/lib/python3.9/site-packages/py21cmfast/_utils.py:815: UserWarning: Trying to remove array that isn't yet created: hires_vy_2LPT\n",
      "  warnings.warn(f\"Trying to remove array that isn't yet created: {k}\")\n",
      "/obs/pguidi/anaconda3/envs/sbi_21cmfast_env/lib/python3.9/site-packages/py21cmfast/_utils.py:815: UserWarning: Trying to remove array that isn't yet created: hires_vz_2LPT\n",
      "  warnings.warn(f\"Trying to remove array that isn't yet created: {k}\")\n"
     ]
    }
   ],
   "source": [
    "# Number of bacthes for the simulations\n",
    "n_batches = 2\n",
    "\n",
    "# Number of simulation per batch\n",
    "n_per_batch = 2\n",
    "\n",
    "# So total number of simulations n = n_batches * n_per_batch\n",
    "\n",
    "# Redshif, number of pixels and dimension of the cube\n",
    "z = 9\n",
    "n_pixels = 32\n",
    "dim = 300\n",
    "\n",
    "# NUmber of bins for the statistics\n",
    "bins_list = [3, 6]\n",
    "\n",
    "# True if you want the l1 summary, otherwise False\n",
    "l1 = True\n",
    "\n",
    "# True if you want the l2 summary, otherwise False\n",
    "l2 = True\n",
    "\n",
    "# Type wavelet for the line of sight decomposition\n",
    "wavelet_type = 'morl'\n",
    "\n",
    "# Starting seed\n",
    "start_seed = 1\n",
    "\n",
    "# True: if you want to save the statistics. Remember to change the directory to the oneyou want\n",
    "# False: if you don't want to save the statistics\n",
    "save_files = True\n",
    "\n",
    "# Choose the path. Remember to remove it from the comment.\n",
    "## path = '/path/to/directory' ## \n",
    "\n",
    "# If you want to anlayse the l1 and l2 summaries, you have to first save the files\n",
    "# The cleaning of the 21cmfast-cache is done inside the function\n",
    "# The function also simulates one additional coeval cube which will be used as the 'observation' for the SBI\n",
    "seed = psbi.create_batched_data_l1l2(n_batches = n_batches, \n",
    "                              n_per_batch = n_per_batch, \n",
    "                              z = z, \n",
    "                              n_pixels = n_pixels, \n",
    "                              dim = dim, \n",
    "                              bins_list = bins_list, \n",
    "                              l1 = l1, \n",
    "                              l2 = l2, \n",
    "                              wavelet_type = wavelet_type, \n",
    "                              start_seed = start_seed, \n",
    "                              save_files = save_files,\n",
    "                              path = path)\n"
   ]
  },
  {
   "cell_type": "code",
   "execution_count": null,
   "id": "68d6dd9c-8538-45ba-a553-7e5a8c2665ce",
   "metadata": {},
   "outputs": [],
   "source": [
    "# Choose the path. Remember to remove it from the comment.\n",
    "## path = '/path/to/directory' ##\n",
    "\n",
    "bins_list = [3, 6]\n",
    "\n",
    "# For loop for each number of bins\n",
    "for b in bins_list:\n",
    "    full_path = os.path.join(path, f'bins_{b}')\n",
    "    \n",
    "    # Loading and comabing the batches of the line of sight decomposition of PS, S1 and S2\n",
    "    l1l2_summary_PS = psbi.import_data_l1l2(os.path.join(full_path, 'data_summary_PS_l1l2_*.npy'))\n",
    "    l1l2_summary_S1 = psbi.import_data_l1l2(os.path.join(full_path, 'data_summary_S1_l1l2_*.npy'))\n",
    "    l1l2_summary_S2 = psbi.import_data_l1l2(os.path.join(full_path, 'data_summary_S2_l1l2_*.npy'))\n",
    "\n",
    "    # Loading and comabing the batches of the PS3d\n",
    "    data_PS3d = psbi.import_data_test(os.path.join(full_path, 'data_summary_PS3d_*.npy'))\n",
    "\n",
    "    # Loading and comabing the batches of the parameters\n",
    "    param_list = psbi.import_data_test(os.path.join(full_path, 'param_list_*.npy'))\n",
    "    \n",
    "    # Saving the files of the statistics and parameters in one file instead of batches\n",
    "    np.save(os.path.join(full_path, 'l1l2_summary_PS.npy'), l1l2_summary_PS)\n",
    "    np.save(os.path.join(full_path, 'l1l2_summary_S1.npy'), l1l2_summary_S1)\n",
    "    np.save(os.path.join(full_path, 'l1l2_summary_S2.npy'), l1l2_summary_S2)\n",
    "    np.save(os.path.join(full_path, 'data_PS3d.npy'), data_PS3d)\n",
    "    np.save(os.path.join(full_path, 'param_list.npy'), param_list)\n",
    "    "
   ]
  },
  {
   "cell_type": "code",
   "execution_count": null,
   "id": "23b8b8ed-0ab6-4342-bfcf-33b8e20da2e8",
   "metadata": {},
   "outputs": [],
   "source": []
  }
 ],
 "metadata": {
  "kernelspec": {
   "display_name": "Python 3 (ipykernel)",
   "language": "python",
   "name": "python3"
  },
  "language_info": {
   "codemirror_mode": {
    "name": "ipython",
    "version": 3
   },
   "file_extension": ".py",
   "mimetype": "text/x-python",
   "name": "python",
   "nbconvert_exporter": "python",
   "pygments_lexer": "ipython3",
   "version": "3.9.20"
  }
 },
 "nbformat": 4,
 "nbformat_minor": 5
}
