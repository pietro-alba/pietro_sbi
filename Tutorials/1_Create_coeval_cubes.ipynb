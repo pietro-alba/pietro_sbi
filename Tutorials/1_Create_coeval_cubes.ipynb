{
 "cells": [
  {
   "cell_type": "markdown",
   "id": "7afc4ab8-f8ef-491f-977b-3fe324e00553",
   "metadata": {},
   "source": [
    "<h1>Simulation of a coeval cube</h1>\n",
    "<div class=\"text\">\n",
    "    This notebook will explain the two functions which are used to create a coeval cube.\n",
    "    <br>\n",
    "    The first function calls run_coeval() which is taken from the package 21cmfast and the second one will delete the 21cmfast cache.\n",
    "    <br>\n",
    "    If this second function is not used, the folder 21cmfast-chache will quickly occupy a lot of storage.\n",
    "</div>"
   ]
  },
  {
   "cell_type": "code",
   "execution_count": 7,
   "id": "9f79e765-b1cf-4241-af5c-5b5942832c3a",
   "metadata": {},
   "outputs": [],
   "source": [
    "import os\n",
    "import sys\n",
    "import numpy as np\n",
    "sys.path.insert(1, os.path.abspath('../')) # Note that this line is useless with a regular pip installation of PyWST.\n",
    "import pietrosbi_new as psbi"
   ]
  },
  {
   "cell_type": "code",
   "execution_count": 8,
   "id": "d054f93b-e586-4e23-a1f9-7840f577f3ff",
   "metadata": {},
   "outputs": [
    {
     "name": "stderr",
     "output_type": "stream",
     "text": [
      "/obs/pguidi/anaconda3/envs/sbi_21cmfast_env/lib/python3.9/site-packages/py21cmfast/_utils.py:400: UserWarning: The following parameters to FlagOptions are not supported: ['USE_VELS_AUX']\n",
      "  warnings.warn(\n",
      "/obs/pguidi/anaconda3/envs/sbi_21cmfast_env/lib/python3.9/site-packages/py21cmfast/_utils.py:815: UserWarning: Trying to remove array that isn't yet created: hires_vx\n",
      "  warnings.warn(f\"Trying to remove array that isn't yet created: {k}\")\n",
      "/obs/pguidi/anaconda3/envs/sbi_21cmfast_env/lib/python3.9/site-packages/py21cmfast/_utils.py:815: UserWarning: Trying to remove array that isn't yet created: hires_vy\n",
      "  warnings.warn(f\"Trying to remove array that isn't yet created: {k}\")\n",
      "/obs/pguidi/anaconda3/envs/sbi_21cmfast_env/lib/python3.9/site-packages/py21cmfast/_utils.py:815: UserWarning: Trying to remove array that isn't yet created: hires_vz\n",
      "  warnings.warn(f\"Trying to remove array that isn't yet created: {k}\")\n",
      "/obs/pguidi/anaconda3/envs/sbi_21cmfast_env/lib/python3.9/site-packages/py21cmfast/_utils.py:815: UserWarning: Trying to remove array that isn't yet created: hires_vx_2LPT\n",
      "  warnings.warn(f\"Trying to remove array that isn't yet created: {k}\")\n",
      "/obs/pguidi/anaconda3/envs/sbi_21cmfast_env/lib/python3.9/site-packages/py21cmfast/_utils.py:815: UserWarning: Trying to remove array that isn't yet created: hires_vy_2LPT\n",
      "  warnings.warn(f\"Trying to remove array that isn't yet created: {k}\")\n",
      "/obs/pguidi/anaconda3/envs/sbi_21cmfast_env/lib/python3.9/site-packages/py21cmfast/_utils.py:815: UserWarning: Trying to remove array that isn't yet created: hires_vz_2LPT\n",
      "  warnings.warn(f\"Trying to remove array that isn't yet created: {k}\")\n"
     ]
    }
   ],
   "source": [
    "# Redshift\n",
    "z = 9 \n",
    "\n",
    "# Number of pixels for the cube\n",
    "n_pixels = 32 \n",
    "\n",
    "# Dimension of the cube\n",
    "dim = 300 # Mpc\n",
    "\n",
    "# Astrophysical parameters. Look at the 21cmfast website to see other parameters \n",
    "astro_params_dict = {\"HII_EFF_FACTOR\": 30, \"ION_Tvir_MIN\": 4.7} \n",
    "\n",
    "# Seed for the coeval cube\n",
    "seed = 1\n",
    "\n",
    "# Creation of the coeval cube\n",
    "coeval = psbi.create_coeval(z = z, \n",
    "                           n_pixels = n_pixels, \n",
    "                           dim = dim, \n",
    "                           astro_params_dict = astro_params_dict, \n",
    "                           seed = seed)\n",
    "\n",
    "# Remove files from the cache\n",
    "psbi.remove_21cmfast_cache()"
   ]
  },
  {
   "cell_type": "code",
   "execution_count": 9,
   "id": "f1b6ce5b-2141-4329-908b-79d77d4eedca",
   "metadata": {},
   "outputs": [
    {
     "name": "stdout",
     "output_type": "stream",
     "text": [
      "(32, 32, 32)\n",
      "-2.9802322e-07\n"
     ]
    }
   ],
   "source": [
    "# The shape of the brightness temperature of the coeval cube is (n_pixel, n_pixel, n_pixel)\n",
    "print(coeval.brightness_temp.shape)\n",
    "\n",
    "# You can also check that the mean value of each slice is (approx.) 0\n",
    "# psbi.create_coeval() removes the mean from each slice since we cannot measure it with interferometers\n",
    "print(np.mean(coeval.brightness_temp[0]))"
   ]
  },
  {
   "cell_type": "code",
   "execution_count": null,
   "id": "f182c341-be4a-479b-a552-f2420897c48e",
   "metadata": {},
   "outputs": [],
   "source": []
  }
 ],
 "metadata": {
  "kernelspec": {
   "display_name": "Python 3 (ipykernel)",
   "language": "python",
   "name": "python3"
  },
  "language_info": {
   "codemirror_mode": {
    "name": "ipython",
    "version": 3
   },
   "file_extension": ".py",
   "mimetype": "text/x-python",
   "name": "python",
   "nbconvert_exporter": "python",
   "pygments_lexer": "ipython3",
   "version": "3.9.20"
  }
 },
 "nbformat": 4,
 "nbformat_minor": 5
}
