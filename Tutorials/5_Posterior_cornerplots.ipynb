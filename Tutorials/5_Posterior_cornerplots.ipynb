{
 "cells": [
  {
   "cell_type": "markdown",
   "id": "3efdc4eb-5836-4b3e-8f38-7abc4c313104",
   "metadata": {},
   "source": [
    "<h1>How to get corner plots of the posterior with sbi</h1>"
   ]
  },
  {
   "cell_type": "code",
   "execution_count": null,
   "id": "70ba4fae-d1b6-4409-825a-7037baad78e4",
   "metadata": {},
   "outputs": [],
   "source": []
  }
 ],
 "metadata": {
  "kernelspec": {
   "display_name": "Python 3 (ipykernel)",
   "language": "python",
   "name": "python3"
  },
  "language_info": {
   "codemirror_mode": {
    "name": "ipython",
    "version": 3
   },
   "file_extension": ".py",
   "mimetype": "text/x-python",
   "name": "python",
   "nbconvert_exporter": "python",
   "pygments_lexer": "ipython3",
   "version": "3.9.20"
  }
 },
 "nbformat": 4,
 "nbformat_minor": 5
}
